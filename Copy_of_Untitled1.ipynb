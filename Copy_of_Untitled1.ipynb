{
  "nbformat": 4,
  "nbformat_minor": 0,
  "metadata": {
    "colab": {
      "name": "Copy of Untitled1.ipynb",
      "provenance": [],
      "authorship_tag": "ABX9TyMgLvhQzUTIa99YQ/BdMOc7",
      "include_colab_link": true
    },
    "kernelspec": {
      "name": "python3",
      "display_name": "Python 3"
    }
  },
  "cells": [
    {
      "cell_type": "markdown",
      "metadata": {
        "id": "view-in-github",
        "colab_type": "text"
      },
      "source": [
        "<a href=\"https://colab.research.google.com/github/cwilliam1120/Python-notebook/blob/master/Copy_of_Untitled1.ipynb\" target=\"_parent\"><img src=\"https://colab.research.google.com/assets/colab-badge.svg\" alt=\"Open In Colab\"/></a>"
      ]
    },
    {
      "cell_type": "code",
      "metadata": {
        "id": "Xv-DOVSXY_pL",
        "colab_type": "code",
        "outputId": "8785143e-3f86-4c80-d9aa-a24138223343",
        "colab": {
          "base_uri": "https://localhost:8080/",
          "height": 51
        }
      },
      "source": [
        "jjj = {'a':10, 'b':20}\n",
        "for x, y in jjj.items():\n",
        "  print(x,y)"
      ],
      "execution_count": 0,
      "outputs": [
        {
          "output_type": "stream",
          "text": [
            "a 10\n",
            "b 20\n"
          ],
          "name": "stdout"
        }
      ]
    },
    {
      "cell_type": "markdown",
      "metadata": {
        "id": "UdHOTe5XZd4g",
        "colab_type": "text"
      },
      "source": [
        "*keys() *values() *items()->create a list of tuples (key, value) pair"
      ]
    },
    {
      "cell_type": "code",
      "metadata": {
        "id": "WipX0UNZZMfS",
        "colab_type": "code",
        "outputId": "49a6ca69-29d9-4f4b-db9c-531214490aee",
        "colab": {
          "base_uri": "https://localhost:8080/",
          "height": 54
        }
      },
      "source": [
        "fhand = open('romeo.txt')\n",
        "counts = {}\n",
        "for line in fhand:\n",
        "  words = line.split()\n",
        "  for word in words:\n",
        "      counts[word] = counts.get(word, 0) + 1\n",
        "\n",
        "#print(counts)\n",
        "\n",
        "lst = []\n",
        "\n",
        "for k, v in counts.items():\n",
        "  lst.append((v, k))\n",
        "print(sorted(lst, reverse=True)[:10])"
      ],
      "execution_count": 6,
      "outputs": [
        {
          "output_type": "stream",
          "text": [
            "[(3, 'the'), (3, 'is'), (3, 'and'), (2, 'sun'), (1, 'yonder'), (1, 'with'), (1, 'window'), (1, 'what'), (1, 'through'), (1, 'soft')]\n"
          ],
          "name": "stdout"
        }
      ]
    },
    {
      "cell_type": "markdown",
      "metadata": {
        "id": "T_dE_ZhinO9K",
        "colab_type": "text"
      },
      "source": [
        "[ : ]\n",
        "前面start index 後面 end index (excluding)"
      ]
    },
    {
      "cell_type": "code",
      "metadata": {
        "id": "hw7pQxOvmTWu",
        "colab_type": "code",
        "colab": {}
      },
      "source": [
        ""
      ],
      "execution_count": 0,
      "outputs": []
    }
  ]
}